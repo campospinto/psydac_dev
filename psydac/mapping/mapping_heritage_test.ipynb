{
 "cells": [
  {
   "cell_type": "markdown",
   "metadata": {},
   "source": [
    "# Unitary test for mapping heritage between AnalyticMapping and SplineMapping"
   ]
  },
  {
   "cell_type": "code",
   "execution_count": 1,
   "metadata": {},
   "outputs": [],
   "source": [
    "from abstract_mapping import AbstractMapping\n",
    "\n",
    "def unitary_test_Mapping_heritage_values(mapping):\n",
    "    assert(isinstance(mapping,AbstractMapping))\n",
    "    (eta1, eta2) = (0.5, 0.1)\n",
    "    print(\"__call__ : \", mapping(eta1,eta2), \"\\njacobian_eval : \", mapping.jacobian_eval(eta1,eta2), \"\\njacobian_inv_eval : \",mapping.jacobian_inv_eval(eta1,eta2),\"\\nmetric : \", mapping.metric_eval(eta1,eta2),\"\\nmetric_det : \",mapping.metric_det_eval(eta1,eta2))"
   ]
  },
  {
   "cell_type": "markdown",
   "metadata": {},
   "source": [
    "# Test for plotting mapped domain on AbstractMapping and that heritage follows "
   ]
  },
  {
   "cell_type": "code",
   "execution_count": 2,
   "metadata": {},
   "outputs": [],
   "source": [
    "from utils import plot_domain\n",
    "from sympde.topology.domain import Square\n",
    "import numpy as np\n",
    "\n",
    "def test_plot_domain_Mapping_heritage(mapping):\n",
    "    \n",
    "    assert(isinstance(mapping,AbstractMapping))\n",
    "    \n",
    "    # Creating the domain\n",
    "    bounds1=(0., 1.)\n",
    "    bounds2=(0., 2*np.pi)\n",
    "    logical_domain = Square('A_1', bounds1, bounds2)\n",
    "    \n",
    "    omega = mapping(logical_domain)\n",
    "    \n",
    "    plot_domain(omega,draw=True,isolines=True)"
   ]
  },
  {
   "cell_type": "markdown",
   "metadata": {},
   "source": [
    "Creating an analytical mappping polar mapping: "
   ]
  },
  {
   "cell_type": "code",
   "execution_count": 2,
   "metadata": {},
   "outputs": [],
   "source": [
    "from analytical_mappings import PolarMapping\n",
    "analytical_polar_mapping = PolarMapping('F_1', dim=2, c1=0., c2=0., rmin=0.3, rmax=1.)"
   ]
  },
  {
   "cell_type": "markdown",
   "metadata": {},
   "source": [
    "Creating the corresponding spline mapping :"
   ]
  },
  {
   "cell_type": "code",
   "execution_count": 3,
   "metadata": {},
   "outputs": [
    {
     "name": "stderr",
     "output_type": "stream",
     "text": [
      "[MBP-de-Patrick.ipp.mpg.de:02936] shmem: mmap: an error occurred while determining whether or not /var/folders/j2/7f3m5q9n2mb2px8gr1rz76vw0000gn/T//ompi.MBP-de-Patrick.501/jf.0/4192075776/sm_segment.MBP-de-Patrick.501.f9de0000.0 could be created.\n"
     ]
    }
   ],
   "source": [
    "\n",
    "import numpy as np \n",
    "from discrete import SplineMapping\n",
    "from psydac.fem.splines      import SplineSpace\n",
    "from psydac.fem.tensor       import TensorFemSpace\n",
    "from psydac.ddm.cart         import DomainDecomposition\n",
    "from mpi4py import MPI\n",
    "\n",
    "# Defining parameters \n",
    "bounds1=(0., 1.)\n",
    "bounds2=(0., 2*np.pi)\n",
    "p1, p2 = 4,4\n",
    "nc1, nc2 = 40,40\n",
    "periodic1 = False\n",
    "periodic2 = True\n",
    "\n",
    "# Create 1D spline spaces along x1 and x2\n",
    "V1 = SplineSpace( grid=np.linspace(*bounds1, num=nc1+1), degree=p1, periodic=periodic1 )\n",
    "V2 = SplineSpace( grid=np.linspace(*bounds2, num=nc2+1), degree=p2, periodic=periodic2 )\n",
    "\n",
    "# Create tensor-product 2D spline space, distributed\n",
    "domain_decomposition = DomainDecomposition([nc1, nc2], [periodic1, periodic2], comm=MPI.COMM_WORLD)\n",
    "tensor_space = TensorFemSpace(domain_decomposition, V1, V2)\n",
    "\n",
    "\n",
    "# Create spline mapping by interpolating analytical one\n",
    "spline_polar_mapping = SplineMapping.from_mapping(tensor_space, analytical_polar_mapping )"
   ]
  },
  {
   "cell_type": "markdown",
   "metadata": {},
   "source": [
    "testing call functions : "
   ]
  },
  {
   "cell_type": "code",
   "execution_count": 4,
   "metadata": {},
   "outputs": [
    {
     "name": "stdout",
     "output_type": "stream",
     "text": [
      "for analytical polar mapping\n",
      "__call__ :  (0.6467527074307167, 0.06489172082043829) \n",
      "jacobian_eval :  [[ 0.69650292 -0.06489172]\n",
      " [ 0.06988339  0.64675271]] \n",
      "jacobian_inv_eval :  [[ 1.42143452  0.14261917]\n",
      " [-0.15358987  1.53077564]] \n",
      "metric :  [[0.49   0.    ]\n",
      " [0.     0.4225]] \n",
      "metric_det :  0.20702500000000007\n",
      "\n",
      " \n",
      "\n",
      "for spline polar mapping\n",
      "__call__ :  [0.6467527078381873, 0.06489171148058516] \n",
      "jacobian_eval :  [[ 0.69650292 -0.06489172]\n",
      " [ 0.06988338  0.64675237]] \n",
      "jacobian_inv_eval :  [[ 1.42143451  0.14261925]\n",
      " [-0.15358993  1.53077643]] \n",
      "metric :  [[ 4.89999999e-01 -3.25014830e-08]\n",
      " [-3.25014830e-08  4.22499563e-01]] \n",
      "metric_det :  0.20702478535538227\n"
     ]
    }
   ],
   "source": [
    "print(\"for analytical polar mapping\")\n",
    "unitary_test_Mapping_heritage_values(analytical_polar_mapping)\n",
    "print(\"\\n \\n\")\n",
    "\n",
    "print(\"for spline polar mapping\")\n",
    "unitary_test_Mapping_heritage_values(spline_polar_mapping)"
   ]
  },
  {
   "cell_type": "markdown",
   "metadata": {},
   "source": [
    "testing the plot for both mappings : "
   ]
  },
  {
   "cell_type": "code",
   "execution_count": 6,
   "metadata": {},
   "outputs": [],
   "source": [
    "'''print(\"for analytical polar mapping\")\n",
    "test_plot_domain_Mapping_heritage(analytical_polar_mapping)\n",
    "print(\"\\n \\n\")\n",
    "\n",
    "print(\"for spline polar mapping\")\n",
    "test_plot_domain_Mapping_heritage(spline_polar_mapping)'''\n",
    "\n",
    "import numpy as np \n",
    "\n",
    "linspace_0 = np.linspace(0.,56380887.,500000,endpoint=True)\n",
    "linspace_1 = np.linspace(172.,3643898.,500000,endpoint=True)\n"
   ]
  },
  {
   "cell_type": "code",
   "execution_count": 7,
   "metadata": {},
   "outputs": [
    {
     "data": {
      "text/plain": [
       "(array([-2.11665302e-01, -7.73805621e+01, -5.42097509e+01, ...,\n",
       "         3.67720574e+07,  7.64205075e+06, -2.85692902e+07]),\n",
       " array([ 2.12597742e-01, -1.70346772e+01, -1.48586807e+02, ...,\n",
       "         1.43323942e+07,  3.87195948e+07,  2.72288421e+07]))"
      ]
     },
     "execution_count": 7,
     "metadata": {},
     "output_type": "execute_result"
    }
   ],
   "source": [
    "analytical_polar_mapping._evaluate_array(linspace_0,linspace_1)"
   ]
  },
  {
   "cell_type": "code",
   "execution_count": 8,
   "metadata": {},
   "outputs": [
    {
     "data": {
      "text/plain": [
       "(array([-2.11665302e-01, -7.73805621e+01, -5.42097509e+01, ...,\n",
       "         3.67720574e+07,  7.64205075e+06, -2.85692902e+07]),\n",
       " array([ 2.12597742e-01, -1.70346772e+01, -1.48586807e+02, ...,\n",
       "         1.43323942e+07,  3.87195948e+07,  2.72288421e+07]))"
      ]
     },
     "execution_count": 8,
     "metadata": {},
     "output_type": "execute_result"
    }
   ],
   "source": [
    "analytical_polar_mapping._evaluate_1d_arrays(linspace_0,linspace_1)"
   ]
  }
 ],
 "metadata": {
  "kernelspec": {
   "display_name": "psydac_venv",
   "language": "python",
   "name": "python3"
  },
  "language_info": {
   "codemirror_mode": {
    "name": "ipython",
    "version": 3
   },
   "file_extension": ".py",
   "mimetype": "text/x-python",
   "name": "python",
   "nbconvert_exporter": "python",
   "pygments_lexer": "ipython3",
   "version": "3.11.9"
  }
 },
 "nbformat": 4,
 "nbformat_minor": 2
}
